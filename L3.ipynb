{
  "nbformat": 4,
  "nbformat_minor": 0,
  "metadata": {
    "colab": {
      "provenance": [],
      "authorship_tag": "ABX9TyMkLXsi7Ieu1GfwBFcpAxkO",
      "include_colab_link": true
    },
    "kernelspec": {
      "name": "python3",
      "display_name": "Python 3"
    },
    "language_info": {
      "name": "python"
    }
  },
  "cells": [
    {
      "cell_type": "markdown",
      "metadata": {
        "id": "view-in-github",
        "colab_type": "text"
      },
      "source": [
        "<a href=\"https://colab.research.google.com/github/alexndremelyanov/_/blob/main/L3.ipynb\" target=\"_parent\"><img src=\"https://colab.research.google.com/assets/colab-badge.svg\" alt=\"Open In Colab\"/></a>"
      ]
    },
    {
      "cell_type": "code",
      "execution_count": null,
      "metadata": {
        "id": "bM9w5Pe_3kOq"
      },
      "outputs": [],
      "source": [
        "import warnings\n",
        "warnings.filterwarnings(\"ignore\", \"is_categorical_dtype\")\n",
        "warnings.filterwarnings(\"ignore\", \"use_inf_as_na\")\n",
        "!pip install category_encoders | grep -v 'already satisfied'\n",
        "import numpy as np\n",
        "import pandas as pd\n",
        "import matplotlib.pyplot as plt\n",
        "from sklearn.model_selection import train_test_split\n",
        "from sklearn.preprocessing import MinMaxScaler\n",
        "from sklearn.impute import SimpleImputer\n",
        "from category_encoders import TargetEncoder"
      ]
    },
    {
      "cell_type": "code",
      "source": [
        "inclass_csv = pd.read_csv(\"insclass_train.csv\")\n",
        "\n",
        "inclass_attributes = inclass_csv.drop('target', axis=1)\n",
        "target = inclass_csv['target']\n",
        "\n",
        "train_data, test_data, train_target, test_target = train_test_split(\n",
        "  inclass_attributes,\n",
        "  target,\n",
        "  test_size=0.25,\n",
        "  stratify=target,\n",
        "  random_state=50\n",
        ")\n",
        "\n",
        "encoder = TargetEncoder(cols=[\"variable_1\",\n",
        "                              \"variable_5\",\n",
        "                              \"variable_20\",\n",
        "                              \"variable_21\",\n",
        "                              \"variable_22\",\n",
        "                              \"variable_28\"]).fit(train_data, train_target)\n",
        "\n",
        "encoder.transform(train_data)\n",
        "train_data = encoder.transform(train_data)\n",
        "test_data = encoder.transform(test_data)\n",
        "\n",
        "train_data = train_data.drop([\"variable_7\", \"variable_9\", \"variable_15\", 'variable_3'], axis=1)\n",
        "test_data = test_data.drop([\"variable_7\", \"variable_9\", \"variable_15\", 'variable_3'], axis=1)\n",
        "columns = train_data.select_dtypes(include='number').columns\n",
        "\n",
        "imputer = SimpleImputer(missing_values=np.nan, strategy='mean')\n",
        "imputer.fit(train_data[columns])\n",
        "\n",
        "train_data[columns] = imputer.transform(train_data[columns])\n",
        "test_data[columns] = imputer.transform(test_data[columns])\n",
        "\n",
        "scaler = MinMaxScaler()\n",
        "\n",
        "scaler.fit(train_data[columns])\n",
        "\n",
        "train_data[columns] = scaler.transform(train_data[columns])\n",
        "test_data[columns] = scaler.transform(test_data[columns])\n",
        "\n",
        "train_data[\"variable_0\"] = np.ones((train_data.shape[0]))\n",
        "test_data[\"variable_0\"] = np.ones((test_data.shape[0]))\n",
        "\n",
        "columns = train_data.select_dtypes(include='number').columns\n",
        "\n",
        "train_target = np.array(train_target).reshape(-1, 1)\n",
        "test_target = np.array(test_target).reshape(-1, 1)"
      ],
      "metadata": {
        "id": "hnnTbZoC4giC"
      },
      "execution_count": null,
      "outputs": []
    },
    {
      "cell_type": "code",
      "source": [
        "class Regression:\n",
        "    def __init__(self, threshold = 0.5):\n",
        "        self.a = np.zeros(2).reshape(1, 2)\n",
        "        self.threshold = threshold\n",
        "\n",
        "    def sigmoid(self, x):\n",
        "        return 1/(1 + np.exp(-x @ self.a))\n",
        "\n",
        "    def predict_probability(self, x):\n",
        "        return self.sigmoid(x)\n",
        "\n",
        "    def predict(self, x):\n",
        "        return (self.predict_probability(x) > self.threshold).astype(int)\n",
        "\n",
        "    def coefs(self):\n",
        "        return self.a\n",
        "\n",
        "    def log_likelihood(self, x, Y):\n",
        "        return (Y * np.log(self.predict_probability(x) + 1e-7) + (1 - Y) * np.log(1 + 1e-7 - self.predict_probability(x))).mean()\n",
        "\n",
        "    def cross_entropy(self, x, Y):\n",
        "        return (-Y * np.log(self.predict_probability(x)) - (1 - Y) * np.log(1 - self.predict_probability(x))).mean()\n",
        "\n",
        "    def accuracy(self, x, Y):\n",
        "        return (self.predict(x) == Y).mean()\n",
        "\n",
        "    def fit(self, x, Y, alpha = 0.01, epsylon = 0.01, max_steps = 1000, Rtype = \"LL\"):\n",
        "        self.a = np.zeros(x.shape[1]).reshape(x.shape[1],1)\n",
        "        steps, errors = [], []\n",
        "        step, new_error = 0,0\n",
        "        for _ in range(max_steps):\n",
        "            if Rtype == \"LL\":\n",
        "                new_error = self.log_likelihood(x, Y)\n",
        "                dT_a = x.T @ (Y - self.predict_probability(x)) / x.shape[0]\n",
        "                self.a += alpha * dT_a\n",
        "\n",
        "            elif Rtype == \"CE\":\n",
        "                new_error = self.cross_entropy(x, Y)\n",
        "                dT_a = -x.T @ (Y - self.predict_probability(x)) / x.shape[0]\n",
        "                self.a -= alpha*dT_a\n",
        "            step += 1\n",
        "            steps.append(step)\n",
        "            errors.append(new_error)\n",
        "\n",
        "        return steps, errors"
      ],
      "metadata": {
        "id": "wkQkHWoH6lVv"
      },
      "execution_count": null,
      "outputs": []
    },
    {
      "cell_type": "code",
      "source": [
        "ALPHA = 0.01\n",
        "ESPYLON = 0.01\n",
        "MAX_STEPS = 1000\n",
        "THRESHOLD = 0.2\n",
        "regression = Regression(threshold=THRESHOLD)"
      ],
      "metadata": {
        "id": "EjTI-qxd6qYG"
      },
      "execution_count": null,
      "outputs": []
    },
    {
      "cell_type": "code",
      "source": [
        "ll_steps , ll_errors = regression.fit(train_data[columns], train_target, alpha=ALPHA,epsylon=ESPYLON,max_steps=MAX_STEPS,Rtype=\"LL\")\n",
        "accuracy = regression.accuracy(test_data[columns], test_target)[0]\n",
        "\n",
        "print(f\"Точность метода градиентного подъема: {accuracy}\")"
      ],
      "metadata": {
        "colab": {
          "base_uri": "https://localhost:8080/"
        },
        "id": "6jpKQcAS6xwM",
        "outputId": "50e3634d-0a50-40ac-8fbe-277cf48909cf"
      },
      "execution_count": null,
      "outputs": [
        {
          "output_type": "stream",
          "name": "stdout",
          "text": [
            "Точность метода градиентного подъема: 0.9042058543802177\n"
          ]
        }
      ]
    },
    {
      "cell_type": "code",
      "source": [
        "ce_steps, ce_errors = regression.fit(train_data[columns], train_target, alpha=ALPHA,epsylon=ESPYLON,max_steps=MAX_STEPS,Rtype=\"CE\")\n",
        "accuracy = regression.accuracy(test_data[columns], test_target)[0]\n",
        "\n",
        "print(f\"Точность метода градиентного спуска: {accuracy}\")"
      ],
      "metadata": {
        "colab": {
          "base_uri": "https://localhost:8080/"
        },
        "id": "_HROboua61wF",
        "outputId": "2e2c865f-0ed7-4781-e4b7-9a79aa5b05c9"
      },
      "execution_count": null,
      "outputs": [
        {
          "output_type": "stream",
          "name": "stdout",
          "text": [
            "Точность метода градиентного спуска: 0.9042058543802177\n"
          ]
        }
      ]
    },
    {
      "cell_type": "markdown",
      "source": [
        "График функции потерь градиентного спуска"
      ],
      "metadata": {
        "id": "bO1GcNNa65Zs"
      }
    },
    {
      "cell_type": "code",
      "source": [
        "fig = plt.figure()\n",
        "\n",
        "ax = fig.add_subplot()\n",
        "\n",
        "\n",
        "ax.plot(ce_steps, ce_errors, label='ce')\n",
        "\n",
        "ax.plot(ll_steps, ll_errors, label='ll')\n",
        "handles, titles = ax.get_legend_handles_labels()\n",
        "\n",
        "ax.set_xlabel('Шаг')\n",
        "ax.set_ylabel('Значение ошибки')\n",
        "ax.legend(handles, titles)"
      ],
      "metadata": {
        "id": "v0gynJQC66mZ"
      },
      "execution_count": null,
      "outputs": []
    }
  ]
}