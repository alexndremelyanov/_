{
  "nbformat": 4,
  "nbformat_minor": 0,
  "metadata": {
    "colab": {
      "provenance": [],
      "toc_visible": true,
      "authorship_tag": "ABX9TyMnoVOS2dsLXt6Kz3PGmI41",
      "include_colab_link": true
    },
    "kernelspec": {
      "name": "python3",
      "display_name": "Python 3"
    },
    "language_info": {
      "name": "python"
    }
  },
  "cells": [
    {
      "cell_type": "markdown",
      "metadata": {
        "id": "view-in-github",
        "colab_type": "text"
      },
      "source": [
        "<a href=\"https://colab.research.google.com/github/alexndremelyanov/_/blob/main/L5.ipynb\" target=\"_parent\"><img src=\"https://colab.research.google.com/assets/colab-badge.svg\" alt=\"Open In Colab\"/></a>"
      ]
    },
    {
      "cell_type": "code",
      "source": [
        "import time\n",
        "import seaborn as sns\n",
        "import pandas as pd\n",
        "import numpy as np\n",
        "from sklearn.preprocessing import OneHotEncoder\n",
        "import matplotlib.pyplot as plt\n",
        "from sklearn.model_selection import train_test_split"
      ],
      "metadata": {
        "id": "YNgKEBGMexEs"
      },
      "execution_count": 122,
      "outputs": []
    },
    {
      "cell_type": "code",
      "source": [
        "data = pd.read_csv('video_games.csv')"
      ],
      "metadata": {
        "id": "XoLcqm-6iFvs"
      },
      "execution_count": 123,
      "outputs": []
    },
    {
      "cell_type": "code",
      "source": [
        "data"
      ],
      "metadata": {
        "colab": {
          "base_uri": "https://localhost:8080/",
          "height": 424
        },
        "id": "qpVzD-ngiESb",
        "outputId": "999be3b9-e451-42de-eb74-8c7c4f2f5880"
      },
      "execution_count": 124,
      "outputs": [
        {
          "output_type": "execute_result",
          "data": {
            "text/plain": [
              "        id platform  year         genre                     publisher  \\\n",
              "0     2830      PSV  2012        Racing               Electronic Arts   \n",
              "1     3865     SNES  1996  Role-Playing           ASCII Entertainment   \n",
              "2     4617      PSP  2009        Sports                   Takara Tomy   \n",
              "3     3675       DS  2007      Fighting                   Takara Tomy   \n",
              "4     1612      PSV  2016        Action            Namco Bandai Games   \n",
              "...    ...      ...   ...           ...                           ...   \n",
              "4253  3996      PSP  2010     Adventure                    Tecmo Koei   \n",
              "4254  5720      Wii  2007       Shooter                      Nintendo   \n",
              "4255  4579      3DS  2015        Action                         FuRyu   \n",
              "4256  4072       GB  1996  Role-Playing                      ChunSoft   \n",
              "4257  5883     SNES  1992      Fighting  Konami Digital Entertainment   \n",
              "\n",
              "      na_sales  eu_sales  other_sales  jp_sales  \n",
              "0         0.38      0.52         0.25      1.01  \n",
              "1         0.00      0.00         0.00      1.31  \n",
              "2         0.09      0.00         0.01      1.04  \n",
              "3         0.00      0.00         0.00      1.08  \n",
              "4         0.00      0.00         0.00      1.12  \n",
              "...        ...       ...          ...       ...  \n",
              "4253      0.00      0.00         0.00      1.09  \n",
              "4254      3.06      1.18         0.46      1.29  \n",
              "4255      0.00      0.00         0.00      1.06  \n",
              "4256      0.00      0.00         0.00      1.27  \n",
              "4257      0.00      0.00         0.00      1.06  \n",
              "\n",
              "[4258 rows x 9 columns]"
            ],
            "text/html": [
              "\n",
              "  <div id=\"df-4bf46eff-28b4-4b46-b3b9-bf9f360c3aa5\" class=\"colab-df-container\">\n",
              "    <div>\n",
              "<style scoped>\n",
              "    .dataframe tbody tr th:only-of-type {\n",
              "        vertical-align: middle;\n",
              "    }\n",
              "\n",
              "    .dataframe tbody tr th {\n",
              "        vertical-align: top;\n",
              "    }\n",
              "\n",
              "    .dataframe thead th {\n",
              "        text-align: right;\n",
              "    }\n",
              "</style>\n",
              "<table border=\"1\" class=\"dataframe\">\n",
              "  <thead>\n",
              "    <tr style=\"text-align: right;\">\n",
              "      <th></th>\n",
              "      <th>id</th>\n",
              "      <th>platform</th>\n",
              "      <th>year</th>\n",
              "      <th>genre</th>\n",
              "      <th>publisher</th>\n",
              "      <th>na_sales</th>\n",
              "      <th>eu_sales</th>\n",
              "      <th>other_sales</th>\n",
              "      <th>jp_sales</th>\n",
              "    </tr>\n",
              "  </thead>\n",
              "  <tbody>\n",
              "    <tr>\n",
              "      <th>0</th>\n",
              "      <td>2830</td>\n",
              "      <td>PSV</td>\n",
              "      <td>2012</td>\n",
              "      <td>Racing</td>\n",
              "      <td>Electronic Arts</td>\n",
              "      <td>0.38</td>\n",
              "      <td>0.52</td>\n",
              "      <td>0.25</td>\n",
              "      <td>1.01</td>\n",
              "    </tr>\n",
              "    <tr>\n",
              "      <th>1</th>\n",
              "      <td>3865</td>\n",
              "      <td>SNES</td>\n",
              "      <td>1996</td>\n",
              "      <td>Role-Playing</td>\n",
              "      <td>ASCII Entertainment</td>\n",
              "      <td>0.00</td>\n",
              "      <td>0.00</td>\n",
              "      <td>0.00</td>\n",
              "      <td>1.31</td>\n",
              "    </tr>\n",
              "    <tr>\n",
              "      <th>2</th>\n",
              "      <td>4617</td>\n",
              "      <td>PSP</td>\n",
              "      <td>2009</td>\n",
              "      <td>Sports</td>\n",
              "      <td>Takara Tomy</td>\n",
              "      <td>0.09</td>\n",
              "      <td>0.00</td>\n",
              "      <td>0.01</td>\n",
              "      <td>1.04</td>\n",
              "    </tr>\n",
              "    <tr>\n",
              "      <th>3</th>\n",
              "      <td>3675</td>\n",
              "      <td>DS</td>\n",
              "      <td>2007</td>\n",
              "      <td>Fighting</td>\n",
              "      <td>Takara Tomy</td>\n",
              "      <td>0.00</td>\n",
              "      <td>0.00</td>\n",
              "      <td>0.00</td>\n",
              "      <td>1.08</td>\n",
              "    </tr>\n",
              "    <tr>\n",
              "      <th>4</th>\n",
              "      <td>1612</td>\n",
              "      <td>PSV</td>\n",
              "      <td>2016</td>\n",
              "      <td>Action</td>\n",
              "      <td>Namco Bandai Games</td>\n",
              "      <td>0.00</td>\n",
              "      <td>0.00</td>\n",
              "      <td>0.00</td>\n",
              "      <td>1.12</td>\n",
              "    </tr>\n",
              "    <tr>\n",
              "      <th>...</th>\n",
              "      <td>...</td>\n",
              "      <td>...</td>\n",
              "      <td>...</td>\n",
              "      <td>...</td>\n",
              "      <td>...</td>\n",
              "      <td>...</td>\n",
              "      <td>...</td>\n",
              "      <td>...</td>\n",
              "      <td>...</td>\n",
              "    </tr>\n",
              "    <tr>\n",
              "      <th>4253</th>\n",
              "      <td>3996</td>\n",
              "      <td>PSP</td>\n",
              "      <td>2010</td>\n",
              "      <td>Adventure</td>\n",
              "      <td>Tecmo Koei</td>\n",
              "      <td>0.00</td>\n",
              "      <td>0.00</td>\n",
              "      <td>0.00</td>\n",
              "      <td>1.09</td>\n",
              "    </tr>\n",
              "    <tr>\n",
              "      <th>4254</th>\n",
              "      <td>5720</td>\n",
              "      <td>Wii</td>\n",
              "      <td>2007</td>\n",
              "      <td>Shooter</td>\n",
              "      <td>Nintendo</td>\n",
              "      <td>3.06</td>\n",
              "      <td>1.18</td>\n",
              "      <td>0.46</td>\n",
              "      <td>1.29</td>\n",
              "    </tr>\n",
              "    <tr>\n",
              "      <th>4255</th>\n",
              "      <td>4579</td>\n",
              "      <td>3DS</td>\n",
              "      <td>2015</td>\n",
              "      <td>Action</td>\n",
              "      <td>FuRyu</td>\n",
              "      <td>0.00</td>\n",
              "      <td>0.00</td>\n",
              "      <td>0.00</td>\n",
              "      <td>1.06</td>\n",
              "    </tr>\n",
              "    <tr>\n",
              "      <th>4256</th>\n",
              "      <td>4072</td>\n",
              "      <td>GB</td>\n",
              "      <td>1996</td>\n",
              "      <td>Role-Playing</td>\n",
              "      <td>ChunSoft</td>\n",
              "      <td>0.00</td>\n",
              "      <td>0.00</td>\n",
              "      <td>0.00</td>\n",
              "      <td>1.27</td>\n",
              "    </tr>\n",
              "    <tr>\n",
              "      <th>4257</th>\n",
              "      <td>5883</td>\n",
              "      <td>SNES</td>\n",
              "      <td>1992</td>\n",
              "      <td>Fighting</td>\n",
              "      <td>Konami Digital Entertainment</td>\n",
              "      <td>0.00</td>\n",
              "      <td>0.00</td>\n",
              "      <td>0.00</td>\n",
              "      <td>1.06</td>\n",
              "    </tr>\n",
              "  </tbody>\n",
              "</table>\n",
              "<p>4258 rows × 9 columns</p>\n",
              "</div>\n",
              "    <div class=\"colab-df-buttons\">\n",
              "\n",
              "  <div class=\"colab-df-container\">\n",
              "    <button class=\"colab-df-convert\" onclick=\"convertToInteractive('df-4bf46eff-28b4-4b46-b3b9-bf9f360c3aa5')\"\n",
              "            title=\"Convert this dataframe to an interactive table.\"\n",
              "            style=\"display:none;\">\n",
              "\n",
              "  <svg xmlns=\"http://www.w3.org/2000/svg\" height=\"24px\" viewBox=\"0 -960 960 960\">\n",
              "    <path d=\"M120-120v-720h720v720H120Zm60-500h600v-160H180v160Zm220 220h160v-160H400v160Zm0 220h160v-160H400v160ZM180-400h160v-160H180v160Zm440 0h160v-160H620v160ZM180-180h160v-160H180v160Zm440 0h160v-160H620v160Z\"/>\n",
              "  </svg>\n",
              "    </button>\n",
              "\n",
              "  <style>\n",
              "    .colab-df-container {\n",
              "      display:flex;\n",
              "      gap: 12px;\n",
              "    }\n",
              "\n",
              "    .colab-df-convert {\n",
              "      background-color: #E8F0FE;\n",
              "      border: none;\n",
              "      border-radius: 50%;\n",
              "      cursor: pointer;\n",
              "      display: none;\n",
              "      fill: #1967D2;\n",
              "      height: 32px;\n",
              "      padding: 0 0 0 0;\n",
              "      width: 32px;\n",
              "    }\n",
              "\n",
              "    .colab-df-convert:hover {\n",
              "      background-color: #E2EBFA;\n",
              "      box-shadow: 0px 1px 2px rgba(60, 64, 67, 0.3), 0px 1px 3px 1px rgba(60, 64, 67, 0.15);\n",
              "      fill: #174EA6;\n",
              "    }\n",
              "\n",
              "    .colab-df-buttons div {\n",
              "      margin-bottom: 4px;\n",
              "    }\n",
              "\n",
              "    [theme=dark] .colab-df-convert {\n",
              "      background-color: #3B4455;\n",
              "      fill: #D2E3FC;\n",
              "    }\n",
              "\n",
              "    [theme=dark] .colab-df-convert:hover {\n",
              "      background-color: #434B5C;\n",
              "      box-shadow: 0px 1px 3px 1px rgba(0, 0, 0, 0.15);\n",
              "      filter: drop-shadow(0px 1px 2px rgba(0, 0, 0, 0.3));\n",
              "      fill: #FFFFFF;\n",
              "    }\n",
              "  </style>\n",
              "\n",
              "    <script>\n",
              "      const buttonEl =\n",
              "        document.querySelector('#df-4bf46eff-28b4-4b46-b3b9-bf9f360c3aa5 button.colab-df-convert');\n",
              "      buttonEl.style.display =\n",
              "        google.colab.kernel.accessAllowed ? 'block' : 'none';\n",
              "\n",
              "      async function convertToInteractive(key) {\n",
              "        const element = document.querySelector('#df-4bf46eff-28b4-4b46-b3b9-bf9f360c3aa5');\n",
              "        const dataTable =\n",
              "          await google.colab.kernel.invokeFunction('convertToInteractive',\n",
              "                                                    [key], {});\n",
              "        if (!dataTable) return;\n",
              "\n",
              "        const docLinkHtml = 'Like what you see? Visit the ' +\n",
              "          '<a target=\"_blank\" href=https://colab.research.google.com/notebooks/data_table.ipynb>data table notebook</a>'\n",
              "          + ' to learn more about interactive tables.';\n",
              "        element.innerHTML = '';\n",
              "        dataTable['output_type'] = 'display_data';\n",
              "        await google.colab.output.renderOutput(dataTable, element);\n",
              "        const docLink = document.createElement('div');\n",
              "        docLink.innerHTML = docLinkHtml;\n",
              "        element.appendChild(docLink);\n",
              "      }\n",
              "    </script>\n",
              "  </div>\n",
              "\n",
              "\n",
              "<div id=\"df-bf2907ac-6e51-49bf-85a1-a1a3c4244fb0\">\n",
              "  <button class=\"colab-df-quickchart\" onclick=\"quickchart('df-bf2907ac-6e51-49bf-85a1-a1a3c4244fb0')\"\n",
              "            title=\"Suggest charts\"\n",
              "            style=\"display:none;\">\n",
              "\n",
              "<svg xmlns=\"http://www.w3.org/2000/svg\" height=\"24px\"viewBox=\"0 0 24 24\"\n",
              "     width=\"24px\">\n",
              "    <g>\n",
              "        <path d=\"M19 3H5c-1.1 0-2 .9-2 2v14c0 1.1.9 2 2 2h14c1.1 0 2-.9 2-2V5c0-1.1-.9-2-2-2zM9 17H7v-7h2v7zm4 0h-2V7h2v10zm4 0h-2v-4h2v4z\"/>\n",
              "    </g>\n",
              "</svg>\n",
              "  </button>\n",
              "\n",
              "<style>\n",
              "  .colab-df-quickchart {\n",
              "      --bg-color: #E8F0FE;\n",
              "      --fill-color: #1967D2;\n",
              "      --hover-bg-color: #E2EBFA;\n",
              "      --hover-fill-color: #174EA6;\n",
              "      --disabled-fill-color: #AAA;\n",
              "      --disabled-bg-color: #DDD;\n",
              "  }\n",
              "\n",
              "  [theme=dark] .colab-df-quickchart {\n",
              "      --bg-color: #3B4455;\n",
              "      --fill-color: #D2E3FC;\n",
              "      --hover-bg-color: #434B5C;\n",
              "      --hover-fill-color: #FFFFFF;\n",
              "      --disabled-bg-color: #3B4455;\n",
              "      --disabled-fill-color: #666;\n",
              "  }\n",
              "\n",
              "  .colab-df-quickchart {\n",
              "    background-color: var(--bg-color);\n",
              "    border: none;\n",
              "    border-radius: 50%;\n",
              "    cursor: pointer;\n",
              "    display: none;\n",
              "    fill: var(--fill-color);\n",
              "    height: 32px;\n",
              "    padding: 0;\n",
              "    width: 32px;\n",
              "  }\n",
              "\n",
              "  .colab-df-quickchart:hover {\n",
              "    background-color: var(--hover-bg-color);\n",
              "    box-shadow: 0 1px 2px rgba(60, 64, 67, 0.3), 0 1px 3px 1px rgba(60, 64, 67, 0.15);\n",
              "    fill: var(--button-hover-fill-color);\n",
              "  }\n",
              "\n",
              "  .colab-df-quickchart-complete:disabled,\n",
              "  .colab-df-quickchart-complete:disabled:hover {\n",
              "    background-color: var(--disabled-bg-color);\n",
              "    fill: var(--disabled-fill-color);\n",
              "    box-shadow: none;\n",
              "  }\n",
              "\n",
              "  .colab-df-spinner {\n",
              "    border: 2px solid var(--fill-color);\n",
              "    border-color: transparent;\n",
              "    border-bottom-color: var(--fill-color);\n",
              "    animation:\n",
              "      spin 1s steps(1) infinite;\n",
              "  }\n",
              "\n",
              "  @keyframes spin {\n",
              "    0% {\n",
              "      border-color: transparent;\n",
              "      border-bottom-color: var(--fill-color);\n",
              "      border-left-color: var(--fill-color);\n",
              "    }\n",
              "    20% {\n",
              "      border-color: transparent;\n",
              "      border-left-color: var(--fill-color);\n",
              "      border-top-color: var(--fill-color);\n",
              "    }\n",
              "    30% {\n",
              "      border-color: transparent;\n",
              "      border-left-color: var(--fill-color);\n",
              "      border-top-color: var(--fill-color);\n",
              "      border-right-color: var(--fill-color);\n",
              "    }\n",
              "    40% {\n",
              "      border-color: transparent;\n",
              "      border-right-color: var(--fill-color);\n",
              "      border-top-color: var(--fill-color);\n",
              "    }\n",
              "    60% {\n",
              "      border-color: transparent;\n",
              "      border-right-color: var(--fill-color);\n",
              "    }\n",
              "    80% {\n",
              "      border-color: transparent;\n",
              "      border-right-color: var(--fill-color);\n",
              "      border-bottom-color: var(--fill-color);\n",
              "    }\n",
              "    90% {\n",
              "      border-color: transparent;\n",
              "      border-bottom-color: var(--fill-color);\n",
              "    }\n",
              "  }\n",
              "</style>\n",
              "\n",
              "  <script>\n",
              "    async function quickchart(key) {\n",
              "      const quickchartButtonEl =\n",
              "        document.querySelector('#' + key + ' button');\n",
              "      quickchartButtonEl.disabled = true;  // To prevent multiple clicks.\n",
              "      quickchartButtonEl.classList.add('colab-df-spinner');\n",
              "      try {\n",
              "        const charts = await google.colab.kernel.invokeFunction(\n",
              "            'suggestCharts', [key], {});\n",
              "      } catch (error) {\n",
              "        console.error('Error during call to suggestCharts:', error);\n",
              "      }\n",
              "      quickchartButtonEl.classList.remove('colab-df-spinner');\n",
              "      quickchartButtonEl.classList.add('colab-df-quickchart-complete');\n",
              "    }\n",
              "    (() => {\n",
              "      let quickchartButtonEl =\n",
              "        document.querySelector('#df-bf2907ac-6e51-49bf-85a1-a1a3c4244fb0 button');\n",
              "      quickchartButtonEl.style.display =\n",
              "        google.colab.kernel.accessAllowed ? 'block' : 'none';\n",
              "    })();\n",
              "  </script>\n",
              "</div>\n",
              "    </div>\n",
              "  </div>\n"
            ]
          },
          "metadata": {},
          "execution_count": 124
        }
      ]
    },
    {
      "cell_type": "code",
      "source": [
        "numeric_features = ['na_sales','eu_sales','other_sales']\n",
        "categorical_features = ['platform','genre','year','publisher']\n",
        "\n",
        "encoder = OneHotEncoder(sparse_output=False)\n",
        "encoded_features = encoder.fit_transform(data[categorical_features])\n",
        "\n",
        "x = np.hstack((data[numeric_features].values, encoded_features))\n",
        "y = data[\"jp_sales\"]"
      ],
      "metadata": {
        "id": "glI7jN9Ee0w0"
      },
      "execution_count": 125,
      "outputs": []
    },
    {
      "cell_type": "code",
      "source": [
        "x_train, x_test, y_train, y_test = train_test_split(x, y, test_size=0.3, random_state=100)"
      ],
      "metadata": {
        "id": "PrKZPFjwe25q"
      },
      "execution_count": 126,
      "outputs": []
    },
    {
      "cell_type": "markdown",
      "source": [
        "### Линейный градиентный спуск"
      ],
      "metadata": {
        "id": "EzNJK50olm6o"
      }
    },
    {
      "cell_type": "code",
      "source": [
        "class LinearRegressionGD:\n",
        "    def __init__(self, lr=0.01, max_iter=1000, tol=1e-3, intercept = True):\n",
        "        self.learning_rate = lr\n",
        "        self.max_iteration = max_iter\n",
        "        self.tolerance_convergence  = tol\n",
        "        self.intercept = intercept\n",
        "        self.theta = None\n",
        "        self.n = None\n",
        "        self.d = None\n",
        "\n",
        "    def fit(self, X, y, x_, y_):\n",
        "        self.X = X.copy()\n",
        "        if self.intercept:\n",
        "            self.X = np.hstack((np.ones((self.X.shape[0], 1)), self.X))\n",
        "        self.n, self.d = self.X.shape\n",
        "        self.theta = np.random.randn(self.d)\n",
        "        steps, errors, errors_ = [], [], []\n",
        "        step = 0\n",
        "        for _ in range(self.max_iteration):\n",
        "            grad = self.gradient(self.X, y)\n",
        "            self.theta -= self.learning_rate * grad\n",
        "            new_error = ((y - self.predict(X)).T @ (y - self.predict(X))) / self.n\n",
        "            new_error_ = self.MSE(x_, y_)\n",
        "            step += 1\n",
        "            steps.append(step)\n",
        "            errors.append(new_error)\n",
        "            errors_.append(new_error_)\n",
        "            if np.linalg.norm(grad) < self.tolerance_convergence:\n",
        "                break\n",
        "        return steps, errors, errors_\n",
        "\n",
        "    def gradient(self, X, y):\n",
        "        return X.T @ (X @ self.theta - y) / len(y)\n",
        "\n",
        "    def predict(self, X):\n",
        "        if self.intercept:\n",
        "            X_ = np.hstack((np.ones((X.shape[0],1)), X))\n",
        "        else:\n",
        "            X_ = X\n",
        "        return X_ @ self.theta\n",
        "\n",
        "    def MSE(self, X, y):\n",
        "        return ((y - self.predict(X)).T @ (y - self.predict(X))) / len(y)\n",
        "\n",
        "    def MAE(self, X, y):\n",
        "        return abs(y - self.predict(X)).mean()\n",
        "\n",
        "    def MAPE(self, X, y):\n",
        "        return abs((y - self.predict(X))/y).mean()"
      ],
      "metadata": {
        "id": "f5Hx6Tj4e3qg"
      },
      "execution_count": 127,
      "outputs": []
    },
    {
      "cell_type": "code",
      "source": [
        "LEARNING_RATE = 0.01\n",
        "MAX_ITERATIONS = 2000\n",
        "TOLERANCE_CONVERGENCE = 1e-3"
      ],
      "metadata": {
        "id": "mhdhLL_Dl6Nr"
      },
      "execution_count": 128,
      "outputs": []
    },
    {
      "cell_type": "code",
      "source": [
        "start_time = time.time()\n",
        "\n",
        "modelGD = LinearRegressionGD(lr=LEARNING_RATE, max_iter=MAX_ITERATIONS, tol=TOLERANCE_CONVERGENCE)\n",
        "GD_STEPS, GD_ERRORS_TRAIN, GD_ERRORS_TEST = modelGD.fit(x_train, y_train, x_test, y_test)\n",
        "\n",
        "GD_STUDY_TIME = time.time() - start_time\n",
        "\n",
        "GD_MSE_TRAIN = modelGD.MSE(x_train, y_train)\n",
        "GD_MSE_TEST = modelGD.MSE(x_test, y_test)\n",
        "\n",
        "print(f'Время обучения: {GD_STUDY_TIME}; MSE_TRAIN: {GD_MSE_TRAIN}; MSE_TEST: {GD_MSE_TEST}')\n",
        "\n",
        "plt.ylabel('Error')\n",
        "plt.xlabel('Step')\n",
        "plt.plot(GD_STEPS, GD_ERRORS_TRAIN, label = \"TRAIN\")\n",
        "plt.plot(GD_STEPS, GD_ERRORS_TEST, label = \"TEST\")\n",
        "plt.legend()\n",
        "plt.grid()"
      ],
      "metadata": {
        "id": "7CFNgyfPe4dP",
        "colab": {
          "base_uri": "https://localhost:8080/",
          "height": 467
        },
        "outputId": "436a4997-ac33-4963-9146-22e6dc63d647"
      },
      "execution_count": 131,
      "outputs": [
        {
          "output_type": "stream",
          "name": "stdout",
          "text": [
            "Время обучения: 31.977113008499146; MSE_TRAIN: 0.9149729312717046; MSE_TEST: 1.1480114161032928\n"
          ]
        },
        {
          "output_type": "display_data",
          "data": {
            "text/plain": [
              "<Figure size 640x480 with 1 Axes>"
            ],
            "image/png": "[encoded data removed]"
          },
          "metadata": {}
        }
      ]
    },
    {
      "cell_type": "markdown",
      "source": [
        "### Стохастический градиентный спуск"
      ],
      "metadata": {
        "id": "ehDeIRqToApf"
      }
    },
    {
      "cell_type": "code",
      "source": [
        "y_train = y_train.reset_index(drop=True)\n",
        "y_test = y_test.reset_index(drop=True)"
      ],
      "metadata": {
        "id": "yHlJufsle5c8"
      },
      "execution_count": 107,
      "outputs": []
    },
    {
      "cell_type": "code",
      "source": [
        "class LinearRegressionSGD:\n",
        "    def __init__(self, lr=LEARNING_RATE, max_iter=MAX_ITERATIONS, batch_size=8, tol=TOLERANCE_CONVERGENCE, intercept = True):\n",
        "        self.learning_rate = lr\n",
        "        self.max_iteration = max_iter\n",
        "        self.batch_size = batch_size\n",
        "        self.tolerance_convergence  = tol\n",
        "        self.intercept = intercept\n",
        "        self.theta = None\n",
        "        self.n = None\n",
        "        self.d = None\n",
        "\n",
        "    def fit(self, X, y, x_, y_):\n",
        "        self.X = X.copy()\n",
        "        self.y = y.copy()\n",
        "        if self.intercept:\n",
        "            self.X = np.hstack((np.ones((self.X.shape[0], 1)), self.X))\n",
        "        self.n, self.d = self.X.shape\n",
        "        self.theta = np.random.randn(self.d)\n",
        "        steps, errors, errors_ = [], [], []\n",
        "        step = 0\n",
        "        for _ in range(self.max_iteration):\n",
        "            indices = np.random.permutation(self.n)\n",
        "            X = self.X[indices]\n",
        "            y = self.y[indices]\n",
        "            for i in range(0, self.n, self.batch_size):\n",
        "                X_batch = X[i:i+self.batch_size]\n",
        "                y_batch = y[i:i+self.batch_size]\n",
        "                grad = self.gradient(X_batch, y_batch)\n",
        "                self.theta -= self.learning_rate * grad\n",
        "            new_error = ((self.y - self.X @ self.theta).T @ (self.y - self.X @ self.theta)) / self.n\n",
        "            new_error_ = self.MSE(x_, y_)\n",
        "            step += 1\n",
        "            steps.append(step)\n",
        "            errors.append(new_error)\n",
        "            errors_.append(new_error_)\n",
        "            if np.linalg.norm(grad) < self.tolerance_convergence:\n",
        "                break\n",
        "        return steps, errors, errors_\n",
        "\n",
        "    def gradient(self, X, y):\n",
        "        return X.T @ (X @ self.theta - y) / len(y)\n",
        "\n",
        "    def predict(self, X):\n",
        "        if self.intercept:\n",
        "            X_ = np.hstack((np.ones((X.shape[0],1)), X))\n",
        "        else:\n",
        "            X_ = X\n",
        "        return X_ @ self.theta\n",
        "\n",
        "    def MSE(self, X, y):\n",
        "        return ((y - self.predict(X)).T @ (y - self.predict(X))) / len(y)\n",
        "\n",
        "    def MAE(self, X, y):\n",
        "        return abs(y - self.predict(X)).mean()\n",
        "\n",
        "    def MAPE(self, X, y):\n",
        "        return abs((y - self.predict(X))/y).mean()"
      ],
      "metadata": {
        "id": "Eh50Iumie6MV"
      },
      "execution_count": 108,
      "outputs": []
    },
    {
      "cell_type": "code",
      "source": [
        "start_time = time.time()\n",
        "modelSGD = LinearRegressionSGD(lr=LEARNING_RATE, max_iter = MAX_ITERATIONS, batch_size=64, tol=TOLERANCE_CONVERGENCE, intercept = True)\n",
        "SGD_STEPS,SGD_ERRORS_TRAIN, SGD_ERRORS_TEST = modelSGD.fit(x_train, y_train, x_test, y_test)\n",
        "\n",
        "SGD_STUDY_TIME = time.time() - start_time\n",
        "\n",
        "SGD_MSE_TRAIN = modelSGD.MSE(x_train, y_train)\n",
        "SGD_MSE_TEST = modelSGD.MSE(x_test, y_test)\n",
        "\n",
        "print(f'Время обучения: {SGD_STUDY_TIME}; MSE_TRAIN: {SGD_MSE_TRAIN}; MSE_TEST: {SGD_MSE_TEST}')\n",
        "plt.ylabel('Error')\n",
        "plt.xlabel('Step')\n",
        "plt.plot(SGD_STEPS, SGD_ERRORS_TRAIN, label = \"TRAIN\")\n",
        "plt.plot(SGD_STEPS, SGD_ERRORS_TEST, label = \"TEST\")\n",
        "plt.legend()\n",
        "plt.grid()"
      ],
      "metadata": {
        "id": "E7iUkcCze69L",
        "colab": {
          "base_uri": "https://localhost:8080/",
          "height": 467
        },
        "outputId": "f1a1feda-9022-491c-c623-282bff5567b8"
      },
      "execution_count": 109,
      "outputs": [
        {
          "output_type": "stream",
          "name": "stdout",
          "text": [
            "Время обучения: 68.5070309638977; MSE_TRAIN: 0.1295159924068497; MSE_TEST: 0.25033741423653844\n"
          ]
        },
        {
          "output_type": "display_data",
          "data": {
            "text/plain": [
              "<Figure size 640x480 with 1 Axes>"
            ],
            "image/png": "[encoded data removed]"
          },
          "metadata": {}
        }
      ]
    },
    {
      "cell_type": "markdown",
      "source": [
        "### ADAM"
      ],
      "metadata": {
        "id": "w-4JHiQpo0xh"
      }
    },
    {
      "cell_type": "code",
      "source": [
        "y_train = y_train.reset_index(drop=True)\n",
        "y_test = y_test.reset_index(drop=True)"
      ],
      "metadata": {
        "id": "o-Zdr4vde7zC"
      },
      "execution_count": 110,
      "outputs": []
    },
    {
      "cell_type": "code",
      "source": [
        "class ADAM:\n",
        "  def __init__(self, lr=LEARNING_RATE, max_iter=MAX_ITERATIONS, tol=TOLERANCE_CONVERGENCE, intercept = True, beta1=0.9, beta2=0.999, epsylon = 1e-8):\n",
        "    self.learning_rate = lr\n",
        "    self.max_iteration = max_iter\n",
        "    self.tolerance_convergence  = tol\n",
        "    self.intercept = intercept\n",
        "    self.theta = None\n",
        "    self.n = None\n",
        "    self.d = None\n",
        "    self.beta1 = beta1\n",
        "    self.beta2 = beta2\n",
        "    self.epsylon = epsylon\n",
        "    self.s = None\n",
        "    self.v = None\n",
        "\n",
        "  def fit(self, X, y, x_, y_):\n",
        "        self.X = X.copy()\n",
        "        if self.intercept:\n",
        "            self.X = np.hstack((np.ones((self.X.shape[0], 1)), self.X))\n",
        "        self.n, self.d = self.X.shape\n",
        "        self.theta = np.random.randn(self.d)\n",
        "        self.s = np.zeros(self.d)\n",
        "        self.v = np.zeros(self.d)\n",
        "        steps, errors, errors_ = [], [], []\n",
        "        step = 0\n",
        "        for _ in range(self.max_iteration):\n",
        "            grad = self.gradient(self.X, y)\n",
        "            self.s = self.beta1*self.s + (1 - self.beta1)*grad\n",
        "            self.v = self.beta2*self.v + (1-self.beta2)*(grad**2)\n",
        "            s_hat = self.s / (1-self.beta1**(_ + 1))\n",
        "            v_hat = self.v / (1-self.beta2**(_ + 1))\n",
        "            self.theta -= self.learning_rate * s_hat / (np.sqrt(v_hat) + self.epsylon)\n",
        "            new_error = ((y - self.predict(X)).T @ (y - self.predict(X))) / self.n\n",
        "            new_error_ = self.MSE(x_, y_)\n",
        "            step += 1\n",
        "            steps.append(step)\n",
        "            errors.append(new_error)\n",
        "            errors_.append(new_error_)\n",
        "            if np.linalg.norm(grad) < self.tolerance_convergence:\n",
        "                break\n",
        "        return steps, errors, errors_\n",
        "\n",
        "\n",
        "  def gradient(self, X, y):\n",
        "       return X.T @ (X @ self.theta - y) / len(y)\n",
        "\n",
        "  def predict(self, X):\n",
        "      if self.intercept:\n",
        "          X_ = np.hstack((np.ones((X.shape[0],1)), X))\n",
        "      else:\n",
        "           X_ = X\n",
        "      return X_ @ self.theta\n",
        "\n",
        "  def MSE(self, X, y):\n",
        "      return ((y - self.predict(X)).T @ (y - self.predict(X))) / len(y)"
      ],
      "metadata": {
        "id": "MTPXlThje8fd"
      },
      "execution_count": 111,
      "outputs": []
    },
    {
      "cell_type": "code",
      "source": [
        "start_time = time.time()\n",
        "modelADAM = ADAM(lr=LEARNING_RATE, max_iter=MAX_ITERATIONS, tol=TOLERANCE_CONVERGENCE, intercept = True, beta1=0.9, beta2=0.999, epsylon = 1e-8)\n",
        "ADAM_STEPS,ADAM_ERRORS_TRAIN, ADAM_ERRORS_TEST = modelADAM.fit(x_train, y_train, x_test, y_test)\n",
        "\n",
        "ADAM_STUDY_TIME = time.time() - start_time\n",
        "\n",
        "ADAM_MSE_TRAIN = modelADAM.MSE(x_train, y_train)\n",
        "ADAM_MSE_TEST = modelADAM.MSE(x_test, y_test)\n",
        "\n",
        "print(f'Время обучения: {ADAM_STUDY_TIME}; MSE_TRAIN: {SGD_MSE_TRAIN}; MSE_TEST: {SGD_MSE_TEST}')\n",
        "plt.plot(ADAM_STEPS, ADAM_ERRORS_TRAIN, label = 'TRAIN')\n",
        "plt.plot(ADAM_STEPS, ADAM_ERRORS_TEST, label = 'TEST')\n",
        "plt.ylabel('Error')\n",
        "plt.xlabel('Step')\n",
        "plt.grid()\n",
        "plt.legend()\n",
        "plt.grid()"
      ],
      "metadata": {
        "id": "wXdwRzhie9QU",
        "colab": {
          "base_uri": "https://localhost:8080/",
          "height": 467
        },
        "outputId": "46a14d32-698d-46c7-c9db-cce66f30e651"
      },
      "execution_count": 112,
      "outputs": [
        {
          "output_type": "stream",
          "name": "stdout",
          "text": [
            "Время обучения: 8.4196457862854; MSE_TRAIN: 0.1295159924068497; MSE_TEST: 0.25033741423653844\n"
          ]
        },
        {
          "output_type": "display_data",
          "data": {
            "text/plain": [
              "<Figure size 640x480 with 1 Axes>"
            ],
            "image/png": "[encoded data removed]"
          },
          "metadata": {}
        }
      ]
    },
    {
      "cell_type": "markdown",
      "source": [
        "### Сравнение результатов"
      ],
      "metadata": {
        "id": "0636LWTXpsjs"
      }
    },
    {
      "cell_type": "code",
      "source": [
        "df = pd.DataFrame({\n",
        "    'METHOD': ['GD', 'SGD', 'ADAM'],\n",
        "    'STUDY_TIME': [GD_STUDY_TIME, SGD_STUDY_TIME, ADAM_STUDY_TIME],\n",
        "    'MSE_TRAIN': [GD_MSE_TRAIN, SGD_MSE_TRAIN, ADAM_MSE_TRAIN],\n",
        "    'MSE_TEST': [GD_MSE_TEST, SGD_MSE_TEST, ADAM_MSE_TEST]\n",
        "})\n",
        "print(df.to_string(index=False))"
      ],
      "metadata": {
        "id": "jmihOZBne-GM",
        "colab": {
          "base_uri": "https://localhost:8080/"
        },
        "outputId": "fbc82900-09e3-47fe-a9cc-51e2b88cb396"
      },
      "execution_count": 120,
      "outputs": [
        {
          "output_type": "stream",
          "name": "stdout",
          "text": [
            "METHOD  STUDY_TIME  MSE_TRAIN  MSE_TEST\n",
            "    GD   29.807476   0.741695  0.853376\n",
            "   SGD   68.507031   0.129516  0.250337\n",
            "  ADAM    8.419646   0.097460  0.235183\n"
          ]
        }
      ]
    }
  ]
}